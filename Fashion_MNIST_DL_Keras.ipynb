{
  "nbformat": 4,
  "nbformat_minor": 0,
  "metadata": {
    "kernelspec": {
      "display_name": "Python 3",
      "language": "python",
      "name": "python3"
    },
    "language_info": {
      "codemirror_mode": {
        "name": "ipython",
        "version": 3
      },
      "file_extension": ".py",
      "mimetype": "text/x-python",
      "name": "python",
      "nbconvert_exporter": "python",
      "pygments_lexer": "ipython3",
      "version": "3.6.5"
    },
    "toc": {
      "base_numbering": 1,
      "nav_menu": {},
      "number_sections": true,
      "sideBar": true,
      "skip_h1_title": false,
      "title_cell": "Table of Contents",
      "title_sidebar": "Contents",
      "toc_cell": false,
      "toc_position": {},
      "toc_section_display": true,
      "toc_window_display": false
    },
    "colab": {
      "name": "Fashion-MNIST-DL-Keras.ipynb",
      "provenance": [],
      "collapsed_sections": []
    }
  },
  "cells": [
    {
      "cell_type": "markdown",
      "metadata": {
        "id": "0ohB1Xc0oZyn",
        "colab_type": "text"
      },
      "source": [
        "Source: https://github.com/cloudxlab/ml/tree/master/projects/Fashion-MNIST"
      ]
    },
    {
      "cell_type": "markdown",
      "metadata": {
        "id": "IxYcT6qToYA7",
        "colab_type": "text"
      },
      "source": [
        "Fashion-MNIST is a dataset of Zalando's fashion article images —consisting of a training set of 60,000 examples and a test set of 10,000 examples. Each example is a 28x28 grayscale image, associated with a label.\n",
        "\n",
        "“Fashion MNIST” dataset here is used for experimenting and practicing machine learning. Fashion-MNIST dataset is a collection of articles images provided by Zalando(https://zalando.com/) . Thanks to Zalando Research(https://github.com/zalandoresearch/fashion-mnist) for hosting the dataset."
      ]
    },
    {
      "cell_type": "code",
      "metadata": {
        "id": "j1Pdyr6BoYA-",
        "colab_type": "code",
        "outputId": "b079d09c-a16f-4a88-b7f7-1795b11056bc",
        "colab": {
          "base_uri": "https://localhost:8080/",
          "height": 63
        }
      },
      "source": [
        "import tensorflow as tf\n",
        "from tensorflow import keras\n",
        "from tensorflow.keras import layers, models\n",
        "from tensorflow.keras.models import load_model\n",
        "import os"
      ],
      "execution_count": 0,
      "outputs": [
        {
          "output_type": "display_data",
          "data": {
            "text/html": [
              "<p style=\"color: red;\">\n",
              "The default version of TensorFlow in Colab will soon switch to TensorFlow 2.x.<br>\n",
              "We recommend you <a href=\"https://www.tensorflow.org/guide/migrate\" target=\"_blank\">upgrade</a> now \n",
              "or ensure your notebook will continue to use TensorFlow 1.x via the <code>%tensorflow_version 1.x</code> magic:\n",
              "<a href=\"https://colab.research.google.com/notebooks/tensorflow_version.ipynb\" target=\"_blank\">more info</a>.</p>\n"
            ],
            "text/plain": [
              "<IPython.core.display.HTML object>"
            ]
          },
          "metadata": {
            "tags": []
          }
        }
      ]
    },
    {
      "cell_type": "code",
      "metadata": {
        "id": "ib1zpWsIoYBD",
        "colab_type": "code",
        "outputId": "372b051d-002f-4b83-980a-b12ee672fcd3",
        "colab": {
          "base_uri": "https://localhost:8080/",
          "height": 51
        }
      },
      "source": [
        "print(tf.VERSION)\n",
        "print(tf.keras.__version__)"
      ],
      "execution_count": 0,
      "outputs": [
        {
          "output_type": "stream",
          "text": [
            "1.15.0\n",
            "2.2.4-tf\n"
          ],
          "name": "stdout"
        }
      ]
    },
    {
      "cell_type": "code",
      "metadata": {
        "id": "e6SDF_JmoYBH",
        "colab_type": "code",
        "colab": {}
      },
      "source": [
        "import numpy as np\n",
        "import matplotlib.pyplot as plt"
      ],
      "execution_count": 0,
      "outputs": []
    },
    {
      "cell_type": "markdown",
      "metadata": {
        "id": "WH3YAEfcoYBJ",
        "colab_type": "text"
      },
      "source": [
        "Let us get the Fashion MNIST dataset using TensorFlow Keras API as below"
      ]
    },
    {
      "cell_type": "code",
      "metadata": {
        "id": "LE0ESiskoYBK",
        "colab_type": "code",
        "outputId": "8f3de3bd-98c2-49ea-d874-ef943e2c2c84",
        "colab": {
          "base_uri": "https://localhost:8080/",
          "height": 153
        }
      },
      "source": [
        "# Fashion - MNIST - https://github.com/zalandoresearch/fashion-mnist\n",
        "fashion_mnist = keras.datasets.fashion_mnist\n",
        "\n",
        "(train_images, train_labels), (test_images, test_labels) = fashion_mnist.load_data()"
      ],
      "execution_count": 0,
      "outputs": [
        {
          "output_type": "stream",
          "text": [
            "Downloading data from https://storage.googleapis.com/tensorflow/tf-keras-datasets/train-labels-idx1-ubyte.gz\n",
            "32768/29515 [=================================] - 0s 0us/step\n",
            "Downloading data from https://storage.googleapis.com/tensorflow/tf-keras-datasets/train-images-idx3-ubyte.gz\n",
            "26427392/26421880 [==============================] - 0s 0us/step\n",
            "Downloading data from https://storage.googleapis.com/tensorflow/tf-keras-datasets/t10k-labels-idx1-ubyte.gz\n",
            "8192/5148 [===============================================] - 0s 0us/step\n",
            "Downloading data from https://storage.googleapis.com/tensorflow/tf-keras-datasets/t10k-images-idx3-ubyte.gz\n",
            "4423680/4422102 [==============================] - 0s 0us/step\n"
          ],
          "name": "stdout"
        }
      ]
    },
    {
      "cell_type": "code",
      "metadata": {
        "id": "vJn5Q4VqoYBN",
        "colab_type": "code",
        "colab": {}
      },
      "source": [
        "class_names = ['T-shirt/top', 'Trouser', 'Pullover', 'Dress', 'Coat', \n",
        "               'Sandal', 'Shirt', 'Sneaker', 'Bag', 'Ankle boot']"
      ],
      "execution_count": 0,
      "outputs": []
    },
    {
      "cell_type": "code",
      "metadata": {
        "id": "06fQdyIfoYBP",
        "colab_type": "code",
        "outputId": "842cce75-5b07-40a3-c29c-7cc351803675",
        "colab": {
          "base_uri": "https://localhost:8080/",
          "height": 34
        }
      },
      "source": [
        "train_images.shape"
      ],
      "execution_count": 0,
      "outputs": [
        {
          "output_type": "execute_result",
          "data": {
            "text/plain": [
              "(60000, 28, 28)"
            ]
          },
          "metadata": {
            "tags": []
          },
          "execution_count": 10
        }
      ]
    },
    {
      "cell_type": "markdown",
      "metadata": {
        "id": "ZX87Zy3zoYBS",
        "colab_type": "text"
      },
      "source": [
        "Thus we see that training dataset has 60000 images (rows) each of size (28,28) or 28x28 i.e. 2-D images, and each pixel is a value from 0 to 255 describing the pixel intensity. 0 for white and 255 for black.\n",
        "\n",
        "Since a convolutional layer takes a 2-D image (2-D array) as input, we needn't convert \n",
        "these 2-D images to a 1-D arrays \n",
        "\n",
        "If we had to feed these 2-D images to a DNN (hidden layer), which expects a 1-D array as input, we would\n",
        "have to convert these 2-D iamges to 1-D arrays before feeding to hidden layer (DNN)"
      ]
    },
    {
      "cell_type": "code",
      "metadata": {
        "id": "1yAGy2OkoYBT",
        "colab_type": "code",
        "outputId": "3d4529ac-e3e2-4307-e7b6-1d38a3d7b511",
        "colab": {
          "base_uri": "https://localhost:8080/",
          "height": 34
        }
      },
      "source": [
        "train_labels.shape"
      ],
      "execution_count": 0,
      "outputs": [
        {
          "output_type": "execute_result",
          "data": {
            "text/plain": [
              "(60000,)"
            ]
          },
          "metadata": {
            "tags": []
          },
          "execution_count": 11
        }
      ]
    },
    {
      "cell_type": "code",
      "metadata": {
        "id": "bpudsIIJoYBW",
        "colab_type": "code",
        "outputId": "973a6a3d-9774-44aa-fda4-bfcd8451bec0",
        "colab": {
          "base_uri": "https://localhost:8080/",
          "height": 34
        }
      },
      "source": [
        "test_images.shape"
      ],
      "execution_count": 0,
      "outputs": [
        {
          "output_type": "execute_result",
          "data": {
            "text/plain": [
              "(10000, 28, 28)"
            ]
          },
          "metadata": {
            "tags": []
          },
          "execution_count": 12
        }
      ]
    },
    {
      "cell_type": "code",
      "metadata": {
        "id": "qcjzKWEhoYBZ",
        "colab_type": "code",
        "outputId": "17232fea-b23d-4530-9bd3-51528088628d",
        "colab": {
          "base_uri": "https://localhost:8080/",
          "height": 34
        }
      },
      "source": [
        "test_labels.shape"
      ],
      "execution_count": 0,
      "outputs": [
        {
          "output_type": "execute_result",
          "data": {
            "text/plain": [
              "(10000,)"
            ]
          },
          "metadata": {
            "tags": []
          },
          "execution_count": 13
        }
      ]
    },
    {
      "cell_type": "markdown",
      "metadata": {
        "id": "Ox9H9BjyoYBd",
        "colab_type": "text"
      },
      "source": [
        "The class labels for Fashion MNIST are:\n",
        "<br>\n",
        "<br>\n",
        "<b>Label</b> &nbsp;  <b>Description</b>\n",
        "<br>\n",
        "0   &nbsp;&nbsp;&nbsp;&nbsp;&nbsp;&nbsp;&nbsp;   T-shirt/top\n",
        "<br>\n",
        "1   &nbsp;&nbsp;&nbsp;&nbsp;&nbsp;&nbsp;&nbsp;   Trouser\n",
        "<br>\n",
        "2   &nbsp;&nbsp;&nbsp;&nbsp;&nbsp;&nbsp;&nbsp;   Pullover\n",
        "<br>\n",
        "3   &nbsp;&nbsp;&nbsp;&nbsp;&nbsp;&nbsp;&nbsp;   Dress\n",
        "<br>\n",
        "4   &nbsp;&nbsp;&nbsp;&nbsp;&nbsp;&nbsp;&nbsp;   Coat\n",
        "<br>\n",
        "5   &nbsp;&nbsp;&nbsp;&nbsp;&nbsp;&nbsp;&nbsp;   Sandal\n",
        "<br>\n",
        "6   &nbsp;&nbsp;&nbsp;&nbsp;&nbsp;&nbsp;&nbsp;   Shirt\n",
        "<br>\n",
        "7   &nbsp;&nbsp;&nbsp;&nbsp;&nbsp;&nbsp;&nbsp;   Sneaker\n",
        "<br>\n",
        "8   &nbsp;&nbsp;&nbsp;&nbsp;&nbsp;&nbsp;&nbsp;   Bag\n",
        "<br>\n",
        "9   &nbsp;&nbsp;&nbsp;&nbsp;&nbsp;&nbsp;&nbsp;   Ankle boot\n",
        "<br>"
      ]
    },
    {
      "cell_type": "markdown",
      "metadata": {
        "id": "3lg-iSjVoYBe",
        "colab_type": "text"
      },
      "source": [
        "Now, let us view one of the images (at index/instance no. 220) of Fashion MNIST Training dataset, how it looks"
      ]
    },
    {
      "cell_type": "code",
      "metadata": {
        "id": "S8nmZFP0oYBf",
        "colab_type": "code",
        "outputId": "241dbe62-6a50-4093-db97-c2f445549dbc",
        "colab": {
          "base_uri": "https://localhost:8080/",
          "height": 282
        }
      },
      "source": [
        "plt.figure()\n",
        "plt.imshow(np.squeeze(train_images[220]))"
      ],
      "execution_count": 0,
      "outputs": [
        {
          "output_type": "execute_result",
          "data": {
            "text/plain": [
              "<matplotlib.image.AxesImage at 0x7f049a740b00>"
            ]
          },
          "metadata": {
            "tags": []
          },
          "execution_count": 19
        },
        {
          "output_type": "display_data",
          "data": {
            "image/png": "[encoded data removed]",
            "text/plain": [
              "<Figure size 432x288 with 1 Axes>"
            ]
          },
          "metadata": {
            "tags": []
          }
        }
      ]
    },
    {
      "cell_type": "code",
      "metadata": {
        "id": "oet_n7H3oYBh",
        "colab_type": "code",
        "outputId": "4f6fbfc3-699e-4026-f8a1-2f06281a5ed6",
        "colab": {
          "base_uri": "https://localhost:8080/",
          "height": 34
        }
      },
      "source": [
        "train_labels[220]"
      ],
      "execution_count": 0,
      "outputs": [
        {
          "output_type": "execute_result",
          "data": {
            "text/plain": [
              "8"
            ]
          },
          "metadata": {
            "tags": []
          },
          "execution_count": 18
        }
      ]
    },
    {
      "cell_type": "markdown",
      "metadata": {
        "id": "LO9j5MthoYBk",
        "colab_type": "text"
      },
      "source": [
        "So, we see that image at index (instance no.) 220 is a bag, and the corresponding label value also indicates the same (8 - Bag)."
      ]
    },
    {
      "cell_type": "code",
      "metadata": {
        "id": "qiKxfsT6oYBp",
        "colab_type": "code",
        "outputId": "1ae525d8-9b08-4744-9cf4-67fb33b4317c",
        "colab": {
          "base_uri": "https://localhost:8080/",
          "height": 364
        }
      },
      "source": [
        "# Let us plot some training images to see how they look\n",
        "plt.figure(figsize=(10,10))\n",
        "for i in range(15):\n",
        "    plt.subplot(5,5,i+1)\n",
        "    plt.xticks([])\n",
        "    plt.yticks([])\n",
        "    plt.imshow(train_images[i], cmap=plt.cm.binary)\n",
        "    plt.xlabel(class_names[train_labels[i]])\n",
        "plt.show()"
      ],
      "execution_count": 0,
      "outputs": [
        {
          "output_type": "display_data",
          "data": {
            "image/png": "[encoded data removed]",
            "text/plain": [
              "<Figure size 720x720 with 15 Axes>"
            ]
          },
          "metadata": {
            "tags": []
          }
        }
      ]
    },
    {
      "cell_type": "markdown",
      "metadata": {
        "id": "7Y5hxQz4oYBu",
        "colab_type": "text"
      },
      "source": [
        "Now, since, we have one more dimension for the images i.e. Channels (color), let us add it to the dimensions of train_images and test_images by using reshape() function. In this case, it is a single color (hence, channels=1) i.e. 'grayscale'."
      ]
    },
    {
      "cell_type": "code",
      "metadata": {
        "id": "lvIcfWD_oYBv",
        "colab_type": "code",
        "colab": {}
      },
      "source": [
        "train_images = train_images.reshape((60000, 28, 28, 1))\n",
        "test_images = test_images.reshape((10000, 28, 28, 1))"
      ],
      "execution_count": 0,
      "outputs": []
    },
    {
      "cell_type": "markdown",
      "metadata": {
        "id": "KW4SGY39oYB0",
        "colab_type": "text"
      },
      "source": [
        "The pixel values for the images lie between 0 to 255 now, which is a large range. \n",
        "\n",
        "Let us normalize these values to a range from 0 to 1. To do this, we can simply divide each pixel value with 255"
      ]
    },
    {
      "cell_type": "code",
      "metadata": {
        "id": "ZooSXfFSoYB1",
        "colab_type": "code",
        "colab": {}
      },
      "source": [
        "train_images_norm = train_images / 255.0"
      ],
      "execution_count": 0,
      "outputs": []
    },
    {
      "cell_type": "code",
      "metadata": {
        "id": "0O-dZo1PoYB3",
        "colab_type": "code",
        "colab": {}
      },
      "source": [
        "test_images_norm = test_images / 255.0"
      ],
      "execution_count": 0,
      "outputs": []
    },
    {
      "cell_type": "markdown",
      "metadata": {
        "id": "tF88tMKwoYB6",
        "colab_type": "text"
      },
      "source": [
        "Let us now create convolutional layers for our CNN model"
      ]
    },
    {
      "cell_type": "code",
      "metadata": {
        "id": "vsMHhNCqoYB7",
        "colab_type": "code",
        "colab": {}
      },
      "source": [
        "# First convolutional layer. \n",
        "# Number of neurons = 32\n",
        "# filter(kernel) size = 3x3\n",
        "# Activation function = Relu\n",
        "# input data (images) size (height, width, channels) = (28, 28, 1)\n",
        "# Channels is 'colors' here. Since fashion MNIST images are grayscale, number of colors = 1, hence, channels = 1\n",
        "\n",
        "conv1 = layers.Conv2D(32, (3,3), activation='relu', input_shape=(28,28,1) )\n"
      ],
      "execution_count": 0,
      "outputs": []
    },
    {
      "cell_type": "code",
      "metadata": {
        "id": "nbK7FDQJoYB_",
        "colab_type": "code",
        "colab": {}
      },
      "source": [
        "# Second convolutional layer. \n",
        "# Number of neurons = 64\n",
        "# filter(kernel) size = 3x3\n",
        "# Activation function = Relu\n",
        "# No separate input data for this layer, input to this layer are the 'weights' of the conv1 layer featureMaps\n",
        "# no need to specify explicitly the input to the other convolutional layers (except for the first layer, as above)\n",
        "\n",
        "conv2 = layers.Conv2D(64, (3,3), activation='relu')\n"
      ],
      "execution_count": 0,
      "outputs": []
    },
    {
      "cell_type": "code",
      "metadata": {
        "id": "YODH8B2_oYCC",
        "colab_type": "code",
        "colab": {}
      },
      "source": [
        "# Third convolutional layer. \n",
        "# Number of neurons = 128\n",
        "# filter(kernel) size = 3x3\n",
        "# Activation function = Relu\n",
        "# No separate input data for this layer, input to this layer are the 'weights' of the conv2 layer featureMaps\n",
        "# no need to specify explicitly the input to the other convolutional layers (except for the first layer, as above)\n",
        "\n",
        "conv3 = layers.Conv2D(128, (3,3), activation='relu')\n"
      ],
      "execution_count": 0,
      "outputs": []
    },
    {
      "cell_type": "markdown",
      "metadata": {
        "id": "BnjnsOIQoYCJ",
        "colab_type": "text"
      },
      "source": [
        "Let us create a Max Pooing Layer"
      ]
    },
    {
      "cell_type": "code",
      "metadata": {
        "id": "VKDahOUioYCP",
        "colab_type": "code",
        "colab": {}
      },
      "source": [
        "# Max Pool Layer\n",
        "# Since input to CNN is a 2-D image and ouput from last convolutional layer (featuerMap) is also 2-D array \n",
        "# (except the third dimension i.e. channels), we will use 2D version of Max Pooling function of TensorFlow Keras\n",
        "# to create a Max Pooling Layer, as shown below filter (kernel) size for Pooling Layer = 2x2\n",
        "\n",
        "#Creating first Max. Pooling Layer\n",
        "max_pool_1 = layers.MaxPooling2D((2,2))\n",
        "\n",
        "#Creating second Max. Pooling Layer\n",
        "max_pool_2 = layers.MaxPooling2D((2,2))\n",
        "\n",
        "#Creating third Max. Pooling Layer\n",
        "max_pool_3 = layers.MaxPooling2D((2,2))\n"
      ],
      "execution_count": 0,
      "outputs": []
    },
    {
      "cell_type": "markdown",
      "metadata": {
        "id": "vpmoCrtFoYCT",
        "colab_type": "text"
      },
      "source": [
        "Let us create a Fully Connected Layer (Hidden Layer) and an Output Layer to perform Classification"
      ]
    },
    {
      "cell_type": "code",
      "metadata": {
        "id": "TJt52aozoYCU",
        "colab_type": "code",
        "colab": {}
      },
      "source": [
        "# Fully Connected (FC) Layer i.e. hidden layer expects input in 1-D format (1-D array), hence, we need to convert\n",
        "# 2-D output (2-D array) of last convolutional layer (conv3) to 1-D array i.e. we need to flatten the 2-D array\n",
        "# to 1-D array\n",
        "\n",
        "flat_layer = layers.Flatten()\n"
      ],
      "execution_count": 0,
      "outputs": []
    },
    {
      "cell_type": "code",
      "metadata": {
        "id": "i7Rth4uUoYCW",
        "colab_type": "code",
        "colab": {}
      },
      "source": [
        "# Fully Connected (FC) Layer - Hidden(Dense) Layer\n",
        "# Normally, the number of neurons that we keep in FC layer should be equal to the number of neurons in just\n",
        "# immediate previous convolutional layer\n",
        "\n",
        "fc = layers.Dense(128, activation='relu')\n"
      ],
      "execution_count": 0,
      "outputs": []
    },
    {
      "cell_type": "code",
      "metadata": {
        "id": "-AcO-aIZoYCY",
        "colab_type": "code",
        "colab": {}
      },
      "source": [
        "# Output Layer - with 10 neurons (as we have 10 output classes) and using 'softmax' function\n",
        "\n",
        "output = layers.Dense(10, 'softmax')\n"
      ],
      "execution_count": 0,
      "outputs": []
    },
    {
      "cell_type": "markdown",
      "metadata": {
        "id": "4B71FDqKoYCh",
        "colab_type": "text"
      },
      "source": [
        "Let us now create the model (CNN model) structure using the above defined layers"
      ]
    },
    {
      "cell_type": "code",
      "metadata": {
        "id": "IwexvZNFoYCj",
        "colab_type": "code",
        "outputId": "33f100b0-c6f0-456c-d669-aeecc89180b3",
        "colab": {
          "base_uri": "https://localhost:8080/",
          "height": 88
        }
      },
      "source": [
        "# TensorFlow Keras uses Keras Sequential API\n",
        "\n",
        "model = models.Sequential()\n",
        "\n",
        "model.add(conv1)\n",
        "model.add(conv2)\n",
        "model.add(conv3)\n",
        "model.add(max_pool_1)\n",
        "model.add(flat_layer)\n",
        "model.add(fc)\n",
        "model.add(output)\n"
      ],
      "execution_count": 0,
      "outputs": [
        {
          "output_type": "stream",
          "text": [
            "WARNING:tensorflow:From /usr/local/lib/python3.6/dist-packages/tensorflow_core/python/ops/resource_variable_ops.py:1630: calling BaseResourceVariable.__init__ (from tensorflow.python.ops.resource_variable_ops) with constraint is deprecated and will be removed in a future version.\n",
            "Instructions for updating:\n",
            "If using Keras pass *_constraint arguments to layers.\n"
          ],
          "name": "stdout"
        }
      ]
    },
    {
      "cell_type": "code",
      "metadata": {
        "id": "sca2IqyZoYCn",
        "colab_type": "code",
        "outputId": "203124a7-2b67-4f8f-b29d-a628ad1bcf32",
        "colab": {
          "base_uri": "https://localhost:8080/",
          "height": 391
        }
      },
      "source": [
        "# Let us see what all layers our model has\n",
        "\n",
        "model.summary()\n"
      ],
      "execution_count": 0,
      "outputs": [
        {
          "output_type": "stream",
          "text": [
            "Model: \"sequential\"\n",
            "_________________________________________________________________\n",
            "Layer (type)                 Output Shape              Param #   \n",
            "=================================================================\n",
            "conv2d (Conv2D)              (None, 26, 26, 32)        320       \n",
            "_________________________________________________________________\n",
            "conv2d_1 (Conv2D)            (None, 24, 24, 64)        18496     \n",
            "_________________________________________________________________\n",
            "conv2d_2 (Conv2D)            (None, 22, 22, 128)       73856     \n",
            "_________________________________________________________________\n",
            "max_pooling2d (MaxPooling2D) (None, 11, 11, 128)       0         \n",
            "_________________________________________________________________\n",
            "flatten (Flatten)            (None, 15488)             0         \n",
            "_________________________________________________________________\n",
            "dense (Dense)                (None, 128)               1982592   \n",
            "_________________________________________________________________\n",
            "dense_1 (Dense)              (None, 10)                1290      \n",
            "=================================================================\n",
            "Total params: 2,076,554\n",
            "Trainable params: 2,076,554\n",
            "Non-trainable params: 0\n",
            "_________________________________________________________________\n"
          ],
          "name": "stdout"
        }
      ]
    },
    {
      "cell_type": "code",
      "metadata": {
        "id": "aMEW590DCI-C",
        "colab_type": "code",
        "outputId": "ca0bfb52-46e4-43e9-9b30-4550e7090fe0",
        "colab": {
          "base_uri": "https://localhost:8080/",
          "height": 865
        }
      },
      "source": [
        "#Model Plot\n",
        "from tensorflow.keras.utils import plot_model\n",
        "plot_model(model, to_file='model_plot.png', show_shapes=True, show_layer_names=True)"
      ],
      "execution_count": 0,
      "outputs": [
        {
          "output_type": "execute_result",
          "data": {
            "image/png": "[encoded data removed]",
            "text/plain": [
              "<IPython.core.display.Image object>"
            ]
          },
          "metadata": {
            "tags": []
          },
          "execution_count": 38
        }
      ]
    },
    {
      "cell_type": "markdown",
      "metadata": {
        "id": "TivOa_bgoYCq",
        "colab_type": "text"
      },
      "source": [
        "Let us now specify the optimizer(adam), loss function(crossentropy) and metrics(accuracy) for this model\n",
        "\n",
        "NOTE: Use sparse categorical crossentropy when your classes are mutually exclusive (e.g. when each sample belongs exactly to one class) and categorical crossentropy when one sample can have multiple classes or labels are soft probabilities (like [0.5, 0.3, 0.2])."
      ]
    },
    {
      "cell_type": "code",
      "metadata": {
        "id": "N0OCrxVaoYCr",
        "colab_type": "code",
        "colab": {}
      },
      "source": [
        "model.compile(optimizer='adam',\n",
        "              loss='sparse_categorical_crossentropy',\n",
        "              metrics=['accuracy'])"
      ],
      "execution_count": 0,
      "outputs": []
    },
    {
      "cell_type": "markdown",
      "metadata": {
        "id": "8Z-Wl38-oYCv",
        "colab_type": "text"
      },
      "source": [
        "Now let us train the model and also perform the cross validation and hyperparameter tuning. Passing validation_split parameter to fit() method ensures that cross validation and hyperparameter tuning also happens during the training."
      ]
    },
    {
      "cell_type": "code",
      "metadata": {
        "id": "kLywRjjkoYCw",
        "colab_type": "code",
        "outputId": "ed1d72a9-e8d5-4721-db92-7f1d59ef8829",
        "colab": {
          "base_uri": "https://localhost:8080/",
          "height": 731
        }
      },
      "source": [
        "# we are using the normalized input data\n",
        "\n",
        "# Let us perform 20 epochs with batch_size as 512, and with shuffling = true \n",
        "\n",
        "# shuffle=true will shuffle the indexes of the instances in order to allocate different sets of instances \n",
        "# in validation dataset each time cross-validation runs\n",
        "\n",
        "# validation split=0.1 means a validation dataset of size of 10% is created from the training dataset for cross validation\n",
        "\n",
        "model.fit(train_images_norm, train_labels, epochs=20, batch_size=512, shuffle=True, validation_split=0.1)"
      ],
      "execution_count": 0,
      "outputs": [
        {
          "output_type": "stream",
          "text": [
            "Train on 54000 samples, validate on 6000 samples\n",
            "Epoch 1/20\n",
            "54000/54000 [==============================] - 395s 7ms/sample - loss: 0.0199 - acc: 0.9930 - val_loss: 0.3907 - val_acc: 0.9227\n",
            "Epoch 2/20\n",
            "54000/54000 [==============================] - 395s 7ms/sample - loss: 0.0215 - acc: 0.9923 - val_loss: 0.4034 - val_acc: 0.9248\n",
            "Epoch 3/20\n",
            "54000/54000 [==============================] - 395s 7ms/sample - loss: 0.0113 - acc: 0.9961 - val_loss: 0.4464 - val_acc: 0.9195\n",
            "Epoch 4/20\n",
            "54000/54000 [==============================] - 396s 7ms/sample - loss: 0.0099 - acc: 0.9969 - val_loss: 0.4472 - val_acc: 0.9230\n",
            "Epoch 5/20\n",
            "54000/54000 [==============================] - 389s 7ms/sample - loss: 0.0112 - acc: 0.9966 - val_loss: 0.4779 - val_acc: 0.9230\n",
            "Epoch 6/20\n",
            "54000/54000 [==============================] - 383s 7ms/sample - loss: 0.0174 - acc: 0.9941 - val_loss: 0.4646 - val_acc: 0.9217\n",
            "Epoch 7/20\n",
            "54000/54000 [==============================] - 379s 7ms/sample - loss: 0.0106 - acc: 0.9967 - val_loss: 0.4631 - val_acc: 0.9275\n",
            "Epoch 8/20\n",
            "54000/54000 [==============================] - 382s 7ms/sample - loss: 0.0045 - acc: 0.9988 - val_loss: 0.5112 - val_acc: 0.9233\n",
            "Epoch 9/20\n",
            "54000/54000 [==============================] - 379s 7ms/sample - loss: 0.0098 - acc: 0.9966 - val_loss: 0.5678 - val_acc: 0.9145\n",
            "Epoch 10/20\n",
            "54000/54000 [==============================] - 377s 7ms/sample - loss: 0.0155 - acc: 0.9945 - val_loss: 0.4443 - val_acc: 0.9272\n",
            "Epoch 11/20\n",
            "54000/54000 [==============================] - 379s 7ms/sample - loss: 0.0093 - acc: 0.9972 - val_loss: 0.5059 - val_acc: 0.9233\n",
            "Epoch 12/20\n",
            "54000/54000 [==============================] - 372s 7ms/sample - loss: 0.0103 - acc: 0.9965 - val_loss: 0.5463 - val_acc: 0.9225\n",
            "Epoch 13/20\n",
            "54000/54000 [==============================] - 372s 7ms/sample - loss: 0.0090 - acc: 0.9971 - val_loss: 0.5198 - val_acc: 0.9235\n",
            "Epoch 14/20\n",
            "54000/54000 [==============================] - 371s 7ms/sample - loss: 0.0082 - acc: 0.9972 - val_loss: 0.5547 - val_acc: 0.9235\n",
            "Epoch 15/20\n",
            "54000/54000 [==============================] - 371s 7ms/sample - loss: 0.0077 - acc: 0.9974 - val_loss: 0.5479 - val_acc: 0.9192\n",
            "Epoch 16/20\n",
            "54000/54000 [==============================] - 373s 7ms/sample - loss: 0.0071 - acc: 0.9976 - val_loss: 0.5447 - val_acc: 0.9288\n",
            "Epoch 17/20\n",
            "54000/54000 [==============================] - 375s 7ms/sample - loss: 0.0068 - acc: 0.9979 - val_loss: 0.5380 - val_acc: 0.9237\n",
            "Epoch 18/20\n",
            "54000/54000 [==============================] - 371s 7ms/sample - loss: 0.0050 - acc: 0.9985 - val_loss: 0.5519 - val_acc: 0.9228\n",
            "Epoch 19/20\n",
            "54000/54000 [==============================] - 371s 7ms/sample - loss: 0.0036 - acc: 0.9988 - val_loss: 0.5638 - val_acc: 0.9245\n",
            "Epoch 20/20\n",
            "54000/54000 [==============================] - 370s 7ms/sample - loss: 0.0025 - acc: 0.9992 - val_loss: 0.5968 - val_acc: 0.9242\n"
          ],
          "name": "stdout"
        },
        {
          "output_type": "execute_result",
          "data": {
            "text/plain": [
              "<tensorflow.python.keras.callbacks.History at 0x7f0488dabe10>"
            ]
          },
          "metadata": {
            "tags": []
          },
          "execution_count": 41
        }
      ]
    },
    {
      "cell_type": "markdown",
      "metadata": {
        "id": "eKy98jUzoYC3",
        "colab_type": "text"
      },
      "source": [
        "Let us now make predictions on Test dataset using the above trained model"
      ]
    },
    {
      "cell_type": "code",
      "metadata": {
        "id": "AgXz18jZoYC3",
        "colab_type": "code",
        "outputId": "7234f816-f1f9-46f3-a1bb-b7c2f08d71fa",
        "colab": {
          "base_uri": "https://localhost:8080/",
          "height": 34
        }
      },
      "source": [
        "# we are using the normalized input data\n",
        "test_loss, test_accuracy = model.evaluate(test_images_norm, test_labels)"
      ],
      "execution_count": 0,
      "outputs": [
        {
          "output_type": "stream",
          "text": [
            "10000/10000 [==============================] - 21s 2ms/sample - loss: 0.6344 - acc: 0.9224\n"
          ],
          "name": "stdout"
        }
      ]
    },
    {
      "cell_type": "code",
      "metadata": {
        "id": "mgU9ysxAoYC7",
        "colab_type": "code",
        "outputId": "7b8d78d1-50bc-48f7-eb96-5cd8baeede61",
        "colab": {
          "base_uri": "https://localhost:8080/",
          "height": 34
        }
      },
      "source": [
        "print(test_accuracy)"
      ],
      "execution_count": 0,
      "outputs": [
        {
          "output_type": "stream",
          "text": [
            "0.9224\n"
          ],
          "name": "stdout"
        }
      ]
    },
    {
      "cell_type": "markdown",
      "metadata": {
        "id": "C3EDmrIMoYC-",
        "colab_type": "text"
      },
      "source": [
        "We observe from above that the model is overfitting (Training Accuracy - 99% ; Test Accuracy - 92%)\n",
        "\n",
        "Deep learning models generally tend to be perform well on the Training data, but not on the Test data (Overfitting).\n",
        "\n",
        "The simplest way to prevent overfitting is to reduce the size of the model, i.e. the number of learnable parameters (number of layers and the number of neurons per layer). Second option to remove overfitting is to use Regularization techniques like - L1, L2, Dropout.\n",
        "\n",
        "If the neural network has less number of layers and neurons per layer, it may not perform well even on the Training dataset i.e. may lead to Underfitting issue. \n",
        "And if neural network has more number of layers and neurons per layer, it may perform very well (high accuracy) on the Training dataset, but may not perform well on Test dataset i.e. may lead to Overfitting issue. \n",
        "\n",
        "Unfortunately, there is no definite formula to determine the right architecture of your model (number of layers, number of neurons in each layer). You will have to find the right(optimum) architecture by trial and error (experimentation) method only.\n",
        "\n",
        "Though, for neural networks, we have other regularization techniques like L1, L2 regularization, <b>Dropout is the most effective of all and most commonly used regularization technique </b>.\n",
        "\n",
        "Dropout, when applied to a layer, involves of randomly \"dropping out\" (i.e. set to zero) a number of output features (neurons) of the layer. Let's say output of a layer before applying Dropout was [05, 0.8, 2.2, 0.9, 0.1], after applying dropout, the output will be [0, 0.8. 2.2, 0, 0.1].\n",
        "\n",
        "The \"dropout rate\" is the fraction of the features(neurons) that are being zeroed-out in the layer. Generally the value of dropout rate is kept between 0.2 and 0.5. \n",
        "\n",
        "Please note that, <b>Dropout is applied only during the Training phase</b>, and TensorFlow Keras API (evaluate() method) takes care of it internally, we don't need to remove the Dropout layer explicitly(manually) from the model at the time of prediction on the Test dataset.</b>\n",
        "\n",
        "In the Test phase, Dropout is not applied, instead the layer's output values are reduced by a factor equal to the dropout rate, so as to give a feeling that during Test phase also almost same number of neurons are active there were during the Training phase.\n",
        "\n",
        "Hence, to remove Overfitting issue in our case here, let us apply the regularization technique - Dropout.\n",
        "\n"
      ]
    },
    {
      "cell_type": "markdown",
      "metadata": {
        "id": "d9uIuliFoYDE",
        "colab_type": "text"
      },
      "source": [
        "To implement the Dropout using TensorFlow Keras, we create a Dropout layer, and place this Dropout layer immediately after the layer to which this Dropout needs to be applied to.\n",
        "\n",
        "<b>NOTE:If there is a Pooling layer after a convolutional layer, the dropout layer is applied after the pooling layer</b> (not just after the convolutional layer, i.e. between the convolutional layer and the pooling layer)"
      ]
    },
    {
      "cell_type": "code",
      "metadata": {
        "id": "vBOKqOEooYDH",
        "colab_type": "code",
        "colab": {}
      },
      "source": [
        "# Creating first dropout layer (for the first Conv. layer 'conv1')\n",
        "drop_1 = keras.layers.Dropout(0.5)\n",
        "# Creating second dropout layer (for the second Conv. layer 'conv2')\n",
        "drop_2 = keras.layers.Dropout(0.5)\n",
        "# Creating third dropout layer (for the third Conv. layer 'conv3')\n",
        "drop_3 = keras.layers.Dropout(0.5)"
      ],
      "execution_count": 0,
      "outputs": []
    },
    {
      "cell_type": "code",
      "metadata": {
        "id": "r99hMnKGoYDl",
        "colab_type": "code",
        "outputId": "9d17cbe9-0963-4804-a30a-916921b2ea72",
        "colab": {
          "base_uri": "https://localhost:8080/",
          "height": 377
        }
      },
      "source": [
        "# Let us create a new neural network by applying these above created Dropout Layers to the respecive convolutional Layers \n",
        "\n",
        "# Please note that the Dropout layer for all the convolutional layers will be applied after the pooling layer (max. pool layer)\n",
        "\n",
        "new_model = models.Sequential()\n",
        "\n",
        "new_model.add(conv1)\n",
        "# No Pooling Layer and Dropout layer for first Convolutional layer 'conv1'\n",
        "new_model.add(conv2)\n",
        "new_model.add(max_pool_2)\n",
        "new_model.add(drop_2)\n",
        "new_model.add(conv3)\n",
        "new_model.add(max_pool_3)\n",
        "new_model.add(drop_3)\n",
        "new_model.add(flat_layer)\n",
        "new_model.add(fc)\n",
        "new_model.add(output)\n"
      ],
      "execution_count": 0,
      "outputs": [
        {
          "output_type": "error",
          "ename": "ValueError",
          "evalue": "ignored",
          "traceback": [
            "\u001b[0;31m---------------------------------------------------------------------------\u001b[0m",
            "\u001b[0;31mValueError\u001b[0m                                Traceback (most recent call last)",
            "\u001b[0;32m<ipython-input-49-5cd6a9b34f5e>\u001b[0m in \u001b[0;36m<module>\u001b[0;34m()\u001b[0m\n\u001b[1;32m     11\u001b[0m \u001b[0mnew_model\u001b[0m\u001b[0;34m.\u001b[0m\u001b[0madd\u001b[0m\u001b[0;34m(\u001b[0m\u001b[0mdrop_3\u001b[0m\u001b[0;34m)\u001b[0m\u001b[0;34m\u001b[0m\u001b[0;34m\u001b[0m\u001b[0m\n\u001b[1;32m     12\u001b[0m \u001b[0mnew_model\u001b[0m\u001b[0;34m.\u001b[0m\u001b[0madd\u001b[0m\u001b[0;34m(\u001b[0m\u001b[0mflat_layer\u001b[0m\u001b[0;34m)\u001b[0m\u001b[0;34m\u001b[0m\u001b[0;34m\u001b[0m\u001b[0m\n\u001b[0;32m---> 13\u001b[0;31m \u001b[0mnew_model\u001b[0m\u001b[0;34m.\u001b[0m\u001b[0madd\u001b[0m\u001b[0;34m(\u001b[0m\u001b[0mfc\u001b[0m\u001b[0;34m)\u001b[0m\u001b[0;34m\u001b[0m\u001b[0;34m\u001b[0m\u001b[0m\n\u001b[0m\u001b[1;32m     14\u001b[0m \u001b[0mnew_model\u001b[0m\u001b[0;34m.\u001b[0m\u001b[0madd\u001b[0m\u001b[0;34m(\u001b[0m\u001b[0moutput\u001b[0m\u001b[0;34m)\u001b[0m\u001b[0;34m\u001b[0m\u001b[0;34m\u001b[0m\u001b[0m\n",
            "\u001b[0;32m/usr/local/lib/python3.6/dist-packages/tensorflow_core/python/training/tracking/base.py\u001b[0m in \u001b[0;36m_method_wrapper\u001b[0;34m(self, *args, **kwargs)\u001b[0m\n\u001b[1;32m    455\u001b[0m     \u001b[0mself\u001b[0m\u001b[0;34m.\u001b[0m\u001b[0m_self_setattr_tracking\u001b[0m \u001b[0;34m=\u001b[0m \u001b[0;32mFalse\u001b[0m  \u001b[0;31m# pylint: disable=protected-access\u001b[0m\u001b[0;34m\u001b[0m\u001b[0;34m\u001b[0m\u001b[0m\n\u001b[1;32m    456\u001b[0m     \u001b[0;32mtry\u001b[0m\u001b[0;34m:\u001b[0m\u001b[0;34m\u001b[0m\u001b[0;34m\u001b[0m\u001b[0m\n\u001b[0;32m--> 457\u001b[0;31m       \u001b[0mresult\u001b[0m \u001b[0;34m=\u001b[0m \u001b[0mmethod\u001b[0m\u001b[0;34m(\u001b[0m\u001b[0mself\u001b[0m\u001b[0;34m,\u001b[0m \u001b[0;34m*\u001b[0m\u001b[0margs\u001b[0m\u001b[0;34m,\u001b[0m \u001b[0;34m**\u001b[0m\u001b[0mkwargs\u001b[0m\u001b[0;34m)\u001b[0m\u001b[0;34m\u001b[0m\u001b[0;34m\u001b[0m\u001b[0m\n\u001b[0m\u001b[1;32m    458\u001b[0m     \u001b[0;32mfinally\u001b[0m\u001b[0;34m:\u001b[0m\u001b[0;34m\u001b[0m\u001b[0;34m\u001b[0m\u001b[0m\n\u001b[1;32m    459\u001b[0m       \u001b[0mself\u001b[0m\u001b[0;34m.\u001b[0m\u001b[0m_self_setattr_tracking\u001b[0m \u001b[0;34m=\u001b[0m \u001b[0mprevious_value\u001b[0m  \u001b[0;31m# pylint: disable=protected-access\u001b[0m\u001b[0;34m\u001b[0m\u001b[0;34m\u001b[0m\u001b[0m\n",
            "\u001b[0;32m/usr/local/lib/python3.6/dist-packages/tensorflow_core/python/keras/engine/sequential.py\u001b[0m in \u001b[0;36madd\u001b[0;34m(self, layer)\u001b[0m\n\u001b[1;32m    193\u001b[0m       \u001b[0;31m# If the model is being built continuously on top of an input layer:\u001b[0m\u001b[0;34m\u001b[0m\u001b[0;34m\u001b[0m\u001b[0;34m\u001b[0m\u001b[0m\n\u001b[1;32m    194\u001b[0m       \u001b[0;31m# refresh its output.\u001b[0m\u001b[0;34m\u001b[0m\u001b[0;34m\u001b[0m\u001b[0;34m\u001b[0m\u001b[0m\n\u001b[0;32m--> 195\u001b[0;31m       \u001b[0moutput_tensor\u001b[0m \u001b[0;34m=\u001b[0m \u001b[0mlayer\u001b[0m\u001b[0;34m(\u001b[0m\u001b[0mself\u001b[0m\u001b[0;34m.\u001b[0m\u001b[0moutputs\u001b[0m\u001b[0;34m[\u001b[0m\u001b[0;36m0\u001b[0m\u001b[0;34m]\u001b[0m\u001b[0;34m)\u001b[0m\u001b[0;34m\u001b[0m\u001b[0;34m\u001b[0m\u001b[0m\n\u001b[0m\u001b[1;32m    196\u001b[0m       \u001b[0;32mif\u001b[0m \u001b[0mlen\u001b[0m\u001b[0;34m(\u001b[0m\u001b[0mnest\u001b[0m\u001b[0;34m.\u001b[0m\u001b[0mflatten\u001b[0m\u001b[0;34m(\u001b[0m\u001b[0moutput_tensor\u001b[0m\u001b[0;34m)\u001b[0m\u001b[0;34m)\u001b[0m \u001b[0;34m!=\u001b[0m \u001b[0;36m1\u001b[0m\u001b[0;34m:\u001b[0m\u001b[0;34m\u001b[0m\u001b[0;34m\u001b[0m\u001b[0m\n\u001b[1;32m    197\u001b[0m         raise TypeError('All layers in a Sequential model '\n",
            "\u001b[0;32m/usr/local/lib/python3.6/dist-packages/tensorflow_core/python/keras/engine/base_layer.py\u001b[0m in \u001b[0;36m__call__\u001b[0;34m(self, inputs, *args, **kwargs)\u001b[0m\n\u001b[1;32m    817\u001b[0m         \u001b[0;31m# are casted, not before.\u001b[0m\u001b[0;34m\u001b[0m\u001b[0;34m\u001b[0m\u001b[0;34m\u001b[0m\u001b[0m\n\u001b[1;32m    818\u001b[0m         input_spec.assert_input_compatibility(self.input_spec, inputs,\n\u001b[0;32m--> 819\u001b[0;31m                                               self.name)\n\u001b[0m\u001b[1;32m    820\u001b[0m         \u001b[0mgraph\u001b[0m \u001b[0;34m=\u001b[0m \u001b[0mbackend\u001b[0m\u001b[0;34m.\u001b[0m\u001b[0mget_graph\u001b[0m\u001b[0;34m(\u001b[0m\u001b[0;34m)\u001b[0m\u001b[0;34m\u001b[0m\u001b[0;34m\u001b[0m\u001b[0m\n\u001b[1;32m    821\u001b[0m         \u001b[0;32mwith\u001b[0m \u001b[0mgraph\u001b[0m\u001b[0;34m.\u001b[0m\u001b[0mas_default\u001b[0m\u001b[0;34m(\u001b[0m\u001b[0;34m)\u001b[0m\u001b[0;34m,\u001b[0m \u001b[0mbackend\u001b[0m\u001b[0;34m.\u001b[0m\u001b[0mname_scope\u001b[0m\u001b[0;34m(\u001b[0m\u001b[0mself\u001b[0m\u001b[0;34m.\u001b[0m\u001b[0m_name_scope\u001b[0m\u001b[0;34m(\u001b[0m\u001b[0;34m)\u001b[0m\u001b[0;34m)\u001b[0m\u001b[0;34m:\u001b[0m\u001b[0;34m\u001b[0m\u001b[0;34m\u001b[0m\u001b[0m\n",
            "\u001b[0;32m/usr/local/lib/python3.6/dist-packages/tensorflow_core/python/keras/engine/input_spec.py\u001b[0m in \u001b[0;36massert_input_compatibility\u001b[0;34m(input_spec, inputs, layer_name)\u001b[0m\n\u001b[1;32m    211\u001b[0m                 \u001b[0;34m' incompatible with the layer: expected axis '\u001b[0m \u001b[0;34m+\u001b[0m \u001b[0mstr\u001b[0m\u001b[0;34m(\u001b[0m\u001b[0maxis\u001b[0m\u001b[0;34m)\u001b[0m \u001b[0;34m+\u001b[0m\u001b[0;34m\u001b[0m\u001b[0;34m\u001b[0m\u001b[0m\n\u001b[1;32m    212\u001b[0m                 \u001b[0;34m' of input shape to have value '\u001b[0m \u001b[0;34m+\u001b[0m \u001b[0mstr\u001b[0m\u001b[0;34m(\u001b[0m\u001b[0mvalue\u001b[0m\u001b[0;34m)\u001b[0m \u001b[0;34m+\u001b[0m\u001b[0;34m\u001b[0m\u001b[0;34m\u001b[0m\u001b[0m\n\u001b[0;32m--> 213\u001b[0;31m                 ' but received input with shape ' + str(shape))\n\u001b[0m\u001b[1;32m    214\u001b[0m     \u001b[0;31m# Check shape.\u001b[0m\u001b[0;34m\u001b[0m\u001b[0;34m\u001b[0m\u001b[0;34m\u001b[0m\u001b[0m\n\u001b[1;32m    215\u001b[0m     \u001b[0;32mif\u001b[0m \u001b[0mspec\u001b[0m\u001b[0;34m.\u001b[0m\u001b[0mshape\u001b[0m \u001b[0;32mis\u001b[0m \u001b[0;32mnot\u001b[0m \u001b[0;32mNone\u001b[0m\u001b[0;34m:\u001b[0m\u001b[0;34m\u001b[0m\u001b[0;34m\u001b[0m\u001b[0m\n",
            "\u001b[0;31mValueError\u001b[0m: Input 0 of layer dense is incompatible with the layer: expected axis -1 of input shape to have value 15488 but received input with shape [None, 3200]"
          ]
        }
      ]
    },
    {
      "cell_type": "code",
      "metadata": {
        "id": "AO3sjQcNoYDp",
        "colab_type": "code",
        "outputId": "434607c2-73ec-4c4c-88ec-dabecf15ebe4",
        "colab": {
          "base_uri": "https://localhost:8080/",
          "height": 302
        }
      },
      "source": [
        "new_model.summary()"
      ],
      "execution_count": 0,
      "outputs": [
        {
          "output_type": "error",
          "ename": "ValueError",
          "evalue": "ignored",
          "traceback": [
            "\u001b[0;31m---------------------------------------------------------------------------\u001b[0m",
            "\u001b[0;31mValueError\u001b[0m                                Traceback (most recent call last)",
            "\u001b[0;32m<ipython-input-46-60181c3a7fd2>\u001b[0m in \u001b[0;36m<module>\u001b[0;34m()\u001b[0m\n\u001b[0;32m----> 1\u001b[0;31m \u001b[0mnew_model\u001b[0m\u001b[0;34m.\u001b[0m\u001b[0msummary\u001b[0m\u001b[0;34m(\u001b[0m\u001b[0;34m)\u001b[0m\u001b[0;34m\u001b[0m\u001b[0;34m\u001b[0m\u001b[0m\n\u001b[0m",
            "\u001b[0;32m/usr/local/lib/python3.6/dist-packages/tensorflow_core/python/keras/engine/network.py\u001b[0m in \u001b[0;36msummary\u001b[0;34m(self, line_length, positions, print_fn)\u001b[0m\n\u001b[1;32m   1451\u001b[0m     \"\"\"\n\u001b[1;32m   1452\u001b[0m     \u001b[0;32mif\u001b[0m \u001b[0;32mnot\u001b[0m \u001b[0mself\u001b[0m\u001b[0;34m.\u001b[0m\u001b[0mbuilt\u001b[0m\u001b[0;34m:\u001b[0m\u001b[0;34m\u001b[0m\u001b[0;34m\u001b[0m\u001b[0m\n\u001b[0;32m-> 1453\u001b[0;31m       raise ValueError('This model has not yet been built. '\n\u001b[0m\u001b[1;32m   1454\u001b[0m                        \u001b[0;34m'Build the model first by calling `build()` or calling '\u001b[0m\u001b[0;34m\u001b[0m\u001b[0;34m\u001b[0m\u001b[0m\n\u001b[1;32m   1455\u001b[0m                        \u001b[0;34m'`fit()` with some data, or specify '\u001b[0m\u001b[0;34m\u001b[0m\u001b[0;34m\u001b[0m\u001b[0m\n",
            "\u001b[0;31mValueError\u001b[0m: This model has not yet been built. Build the model first by calling `build()` or calling `fit()` with some data, or specify an `input_shape` argument in the first layer(s) for automatic build."
          ]
        }
      ]
    },
    {
      "cell_type": "markdown",
      "metadata": {
        "id": "yEjWTyjsoYD1",
        "colab_type": "text"
      },
      "source": [
        "NOTE: Use sparse categorical crossentropy when your classes are mutually exclusive (e.g. when each sample belongs exactly to one class) and categorical crossentropy when one sample can have multiple classes or labels are soft probabilities (like [0.5, 0.3, 0.2])."
      ]
    },
    {
      "cell_type": "code",
      "metadata": {
        "id": "NpTyG_wYoYD2",
        "colab_type": "code",
        "colab": {}
      },
      "source": [
        "new_model.compile(optimizer='adam',\n",
        "              loss='sparse_categorical_crossentropy',\n",
        "              metrics=['accuracy'])"
      ],
      "execution_count": 0,
      "outputs": []
    },
    {
      "cell_type": "markdown",
      "metadata": {
        "id": "hJWCMSi8oYD6",
        "colab_type": "text"
      },
      "source": [
        "Now let us train the model and also perform the cross validation and hyperparameter tuning. Passing validation_split parameter to fit() method ensures that cross validation and hyperparameter tuning also happens during the training."
      ]
    },
    {
      "cell_type": "code",
      "metadata": {
        "id": "uHh784MQoYD7",
        "colab_type": "code",
        "outputId": "6d65239f-6473-4a89-8bf4-decf63d8bc48",
        "colab": {}
      },
      "source": [
        "# Let us perform 30 epochs with batch_size as 512, and with shuffling = true \n",
        "\n",
        "# shuffle=true will shuffle the indexes of the instances in order to allocate different sets of instances \n",
        "# in validation dataset each time cross-validation runs\n",
        "\n",
        "# validation split=0.1 means a validation dataset of size of 10% is created from the training dataset for cross validation\n",
        "\n",
        "new_model.fit(train_images_norm, train_labels, epochs=30, batch_size=512, shuffle=True, validation_split=0.1)\n"
      ],
      "execution_count": 0,
      "outputs": [
        {
          "output_type": "stream",
          "text": [
            "Train on 54000 samples, validate on 6000 samples\n",
            "Epoch 1/30\n",
            "54000/54000 [==============================] - 129s 2ms/step - loss: 0.7992 - acc: 0.7043 - val_loss: 0.4813 - val_acc: 0.8228\n",
            "Epoch 2/30\n",
            "54000/54000 [==============================] - 131s 2ms/step - loss: 0.4626 - acc: 0.8324 - val_loss: 0.3970 - val_acc: 0.8592\n",
            "Epoch 3/30\n",
            "54000/54000 [==============================] - 129s 2ms/step - loss: 0.3924 - acc: 0.8589 - val_loss: 0.3335 - val_acc: 0.8835\n",
            "Epoch 4/30\n",
            "54000/54000 [==============================] - 130s 2ms/step - loss: 0.3544 - acc: 0.8708 - val_loss: 0.3113 - val_acc: 0.8873\n",
            "Epoch 5/30\n",
            "54000/54000 [==============================] - 129s 2ms/step - loss: 0.3266 - acc: 0.8805 - val_loss: 0.2856 - val_acc: 0.8972\n",
            "Epoch 6/30\n",
            "54000/54000 [==============================] - 129s 2ms/step - loss: 0.3051 - acc: 0.8887 - val_loss: 0.2859 - val_acc: 0.8960\n",
            "Epoch 7/30\n",
            "54000/54000 [==============================] - 129s 2ms/step - loss: 0.2867 - acc: 0.8957 - val_loss: 0.2565 - val_acc: 0.9095\n",
            "Epoch 8/30\n",
            "54000/54000 [==============================] - 129s 2ms/step - loss: 0.2758 - acc: 0.8996 - val_loss: 0.2514 - val_acc: 0.9132\n",
            "Epoch 9/30\n",
            "54000/54000 [==============================] - 127s 2ms/step - loss: 0.2614 - acc: 0.9046 - val_loss: 0.2427 - val_acc: 0.9120\n",
            "Epoch 10/30\n",
            "54000/54000 [==============================] - 127s 2ms/step - loss: 0.2527 - acc: 0.9079 - val_loss: 0.2310 - val_acc: 0.9180\n",
            "Epoch 11/30\n",
            "54000/54000 [==============================] - 127s 2ms/step - loss: 0.2443 - acc: 0.9106 - val_loss: 0.2332 - val_acc: 0.9190\n",
            "Epoch 12/30\n",
            "54000/54000 [==============================] - 126s 2ms/step - loss: 0.2395 - acc: 0.9120 - val_loss: 0.2268 - val_acc: 0.9200\n",
            "Epoch 13/30\n",
            "54000/54000 [==============================] - 127s 2ms/step - loss: 0.2309 - acc: 0.9146 - val_loss: 0.2219 - val_acc: 0.9192\n",
            "Epoch 14/30\n",
            "54000/54000 [==============================] - 126s 2ms/step - loss: 0.2224 - acc: 0.9180 - val_loss: 0.2174 - val_acc: 0.9222\n",
            "Epoch 15/30\n",
            "54000/54000 [==============================] - 131s 2ms/step - loss: 0.2175 - acc: 0.9201 - val_loss: 0.2118 - val_acc: 0.9253\n",
            "Epoch 16/30\n",
            "54000/54000 [==============================] - 128s 2ms/step - loss: 0.2126 - acc: 0.9206 - val_loss: 0.2063 - val_acc: 0.9268\n",
            "Epoch 17/30\n",
            "54000/54000 [==============================] - 127s 2ms/step - loss: 0.2066 - acc: 0.9232 - val_loss: 0.2149 - val_acc: 0.9230\n",
            "Epoch 18/30\n",
            "54000/54000 [==============================] - 128s 2ms/step - loss: 0.2012 - acc: 0.9267 - val_loss: 0.2058 - val_acc: 0.9255\n",
            "Epoch 19/30\n",
            "54000/54000 [==============================] - 126s 2ms/step - loss: 0.1952 - acc: 0.9271 - val_loss: 0.2060 - val_acc: 0.9278\n",
            "Epoch 20/30\n",
            "54000/54000 [==============================] - 126s 2ms/step - loss: 0.1915 - acc: 0.9283 - val_loss: 0.1943 - val_acc: 0.9338\n",
            "Epoch 21/30\n",
            "54000/54000 [==============================] - 124s 2ms/step - loss: 0.1884 - acc: 0.9292 - val_loss: 0.1936 - val_acc: 0.9297\n",
            "Epoch 22/30\n",
            "54000/54000 [==============================] - 126s 2ms/step - loss: 0.1823 - acc: 0.9317 - val_loss: 0.2033 - val_acc: 0.9270\n",
            "Epoch 23/30\n",
            "54000/54000 [==============================] - 124s 2ms/step - loss: 0.1774 - acc: 0.9344 - val_loss: 0.1922 - val_acc: 0.9318\n",
            "Epoch 24/30\n",
            "54000/54000 [==============================] - 124s 2ms/step - loss: 0.1717 - acc: 0.9358 - val_loss: 0.1855 - val_acc: 0.9360\n",
            "Epoch 25/30\n",
            "54000/54000 [==============================] - 124s 2ms/step - loss: 0.1696 - acc: 0.9366 - val_loss: 0.1871 - val_acc: 0.9312\n",
            "Epoch 26/30\n",
            "54000/54000 [==============================] - 124s 2ms/step - loss: 0.1680 - acc: 0.9368 - val_loss: 0.1905 - val_acc: 0.9313\n",
            "Epoch 27/30\n",
            "54000/54000 [==============================] - 124s 2ms/step - loss: 0.1653 - acc: 0.9382 - val_loss: 0.1854 - val_acc: 0.9303\n",
            "Epoch 28/30\n",
            "54000/54000 [==============================] - 124s 2ms/step - loss: 0.1630 - acc: 0.9389 - val_loss: 0.1832 - val_acc: 0.9330\n",
            "Epoch 29/30\n",
            "54000/54000 [==============================] - 124s 2ms/step - loss: 0.1558 - acc: 0.9412 - val_loss: 0.1849 - val_acc: 0.9317\n",
            "Epoch 30/30\n",
            "54000/54000 [==============================] - 124s 2ms/step - loss: 0.1538 - acc: 0.9422 - val_loss: 0.1849 - val_acc: 0.9335\n"
          ],
          "name": "stdout"
        },
        {
          "output_type": "execute_result",
          "data": {
            "text/plain": [
              "<tensorflow.python.keras.callbacks.History at 0x7f9084597c18>"
            ]
          },
          "metadata": {
            "tags": []
          },
          "execution_count": 21
        }
      ]
    },
    {
      "cell_type": "code",
      "metadata": {
        "id": "TdnyWLT9oYED",
        "colab_type": "code",
        "outputId": "c580c293-8ecf-4236-fec1-513366d7f676",
        "colab": {}
      },
      "source": [
        "test_loss, test_accuracy = new_model.evaluate(test_images_norm, test_labels)"
      ],
      "execution_count": 0,
      "outputs": [
        {
          "output_type": "stream",
          "text": [
            "10000/10000 [==============================] - 7s 690us/step\n"
          ],
          "name": "stdout"
        }
      ]
    },
    {
      "cell_type": "code",
      "metadata": {
        "id": "TSfJBqVUoYEP",
        "colab_type": "code",
        "outputId": "a6f12b50-d9aa-4323-eae5-b966e3559517",
        "colab": {}
      },
      "source": [
        "print(test_accuracy)"
      ],
      "execution_count": 0,
      "outputs": [
        {
          "output_type": "stream",
          "text": [
            "0.9305\n"
          ],
          "name": "stdout"
        }
      ]
    },
    {
      "cell_type": "code",
      "metadata": {
        "id": "SjlEOgMroYEV",
        "colab_type": "code",
        "outputId": "7d2a168d-40c4-467d-f85b-a055e132733b",
        "colab": {}
      },
      "source": [
        "print(test_loss)"
      ],
      "execution_count": 0,
      "outputs": [
        {
          "output_type": "stream",
          "text": [
            "0.1947550979077816\n"
          ],
          "name": "stdout"
        }
      ]
    },
    {
      "cell_type": "markdown",
      "metadata": {
        "id": "1v2oNyaYoYEb",
        "colab_type": "text"
      },
      "source": [
        "Accucary Plot"
      ]
    },
    {
      "cell_type": "code",
      "metadata": {
        "id": "Z6RSY7w5oYEd",
        "colab_type": "code",
        "outputId": "5f276245-c991-44ab-ce10-bc5d7e335741",
        "colab": {}
      },
      "source": [
        "print(new_model.history.history.keys())"
      ],
      "execution_count": 0,
      "outputs": [
        {
          "output_type": "stream",
          "text": [
            "dict_keys(['val_loss', 'val_acc', 'loss', 'acc'])\n"
          ],
          "name": "stdout"
        }
      ]
    },
    {
      "cell_type": "code",
      "metadata": {
        "id": "T7xqupZqoYEl",
        "colab_type": "code",
        "outputId": "ffb7bdc8-0774-4f1a-83cb-9e9dfbae5d88",
        "colab": {}
      },
      "source": [
        "plt.plot(new_model.history.history['acc'])\n",
        "plt.plot(new_model.history.history['val_acc'])\n",
        "plt.title(\"Accuracy\")\n",
        "plt.ylabel(\"accuracy\")\n",
        "plt.xlabel(\"epoch\")\n",
        "plt.legend(['train', 'test'], loc='upper left')\n",
        "plt.show()"
      ],
      "execution_count": 0,
      "outputs": [
        {
          "output_type": "display_data",
          "data": {
            "image/png": "[encoded data removed]",
            "text/plain": [
              "<Figure size 432x288 with 1 Axes>"
            ]
          },
          "metadata": {
            "tags": []
          }
        }
      ]
    },
    {
      "cell_type": "markdown",
      "metadata": {
        "id": "08RHvjAtoYEq",
        "colab_type": "text"
      },
      "source": [
        "Loss Plot"
      ]
    },
    {
      "cell_type": "code",
      "metadata": {
        "id": "xFG0AImOoYEu",
        "colab_type": "code",
        "outputId": "15babd21-e47b-4183-d284-844567b0e9bb",
        "colab": {}
      },
      "source": [
        "plt.plot(new_model.history.history['loss'])\n",
        "plt.plot(new_model.history.history['val_loss'])\n",
        "plt.title(\"Loss\")\n",
        "plt.ylabel(\"loss\")\n",
        "plt.xlabel(\"epoch\")\n",
        "plt.legend(['train', 'test'], loc='upper left')\n",
        "plt.show()"
      ],
      "execution_count": 0,
      "outputs": [
        {
          "output_type": "display_data",
          "data": {
            "image/png": "[encoded data removed]",
            "text/plain": [
              "<Figure size 432x288 with 1 Axes>"
            ]
          },
          "metadata": {
            "tags": []
          }
        }
      ]
    },
    {
      "cell_type": "markdown",
      "metadata": {
        "id": "LisCg0i6oYE7",
        "colab_type": "text"
      },
      "source": [
        "From the 'Accuracy\" and \"Loss\" plots above, we see that there is no Overfitting observed now in the model."
      ]
    },
    {
      "cell_type": "markdown",
      "metadata": {
        "id": "jkxK13bUoYE9",
        "colab_type": "text"
      },
      "source": [
        "Now, let us make the predictions on Test dataset (say instance/image no. 88) to check the results"
      ]
    },
    {
      "cell_type": "code",
      "metadata": {
        "id": "se_NOJ9xoYFA",
        "colab_type": "code",
        "colab": {}
      },
      "source": [
        "# Making predictions on Test dataset\n",
        "predicted_test_labels = new_model.predict(test_images_norm)"
      ],
      "execution_count": 0,
      "outputs": []
    },
    {
      "cell_type": "code",
      "metadata": {
        "id": "4PflF5F6oYFE",
        "colab_type": "code",
        "outputId": "a2ec94c8-4eff-4c32-cb20-e988c11dd125",
        "colab": {}
      },
      "source": [
        "predicted_test_labels.shape"
      ],
      "execution_count": 0,
      "outputs": [
        {
          "output_type": "execute_result",
          "data": {
            "text/plain": [
              "(10000, 10)"
            ]
          },
          "metadata": {
            "tags": []
          },
          "execution_count": 29
        }
      ]
    },
    {
      "cell_type": "code",
      "metadata": {
        "id": "xSD57ZZLoYFJ",
        "colab_type": "code",
        "outputId": "1f23b38f-eaa1-4ef9-8e90-bcff9caaab70",
        "colab": {}
      },
      "source": [
        "predicted_test_labels[88]"
      ],
      "execution_count": 0,
      "outputs": [
        {
          "output_type": "execute_result",
          "data": {
            "text/plain": [
              "array([9.9878651e-01, 1.5129776e-09, 1.0235499e-04, 1.5311174e-05,\n",
              "       6.6746189e-08, 5.6005112e-10, 1.0947105e-03, 1.0985579e-12,\n",
              "       9.4132378e-07, 1.5505348e-10], dtype=float32)"
            ]
          },
          "metadata": {
            "tags": []
          },
          "execution_count": 30
        }
      ]
    },
    {
      "cell_type": "code",
      "metadata": {
        "id": "dDyJvMjYoYFR",
        "colab_type": "code",
        "outputId": "031747a5-71e6-4480-b18c-8fe8bf125c95",
        "colab": {}
      },
      "source": [
        "predicted_test_labels_index = np.argmax(predicted_test_labels[88])\n",
        "predicted_test_labels_index"
      ],
      "execution_count": 0,
      "outputs": [
        {
          "output_type": "execute_result",
          "data": {
            "text/plain": [
              "0"
            ]
          },
          "metadata": {
            "tags": []
          },
          "execution_count": 31
        }
      ]
    },
    {
      "cell_type": "code",
      "metadata": {
        "id": "Hp8rB_RxoYFW",
        "colab_type": "code",
        "outputId": "06fa8fb8-a348-4701-9172-2f3ffefa5e2f",
        "colab": {}
      },
      "source": [
        "test_labels[88]"
      ],
      "execution_count": 0,
      "outputs": [
        {
          "output_type": "execute_result",
          "data": {
            "text/plain": [
              "0"
            ]
          },
          "metadata": {
            "tags": []
          },
          "execution_count": 32
        }
      ]
    },
    {
      "cell_type": "code",
      "metadata": {
        "id": "zAjtK7dooYFa",
        "colab_type": "code",
        "outputId": "74e74b74-2747-4337-d25b-3b7d66f86fd7",
        "colab": {}
      },
      "source": [
        "plt.figure()\n",
        "plt.imshow(np.squeeze(test_images[88]))"
      ],
      "execution_count": 0,
      "outputs": [
        {
          "output_type": "execute_result",
          "data": {
            "text/plain": [
              "<matplotlib.image.AxesImage at 0x7f907fba6ac8>"
            ]
          },
          "metadata": {
            "tags": []
          },
          "execution_count": 33
        },
        {
          "output_type": "display_data",
          "data": {
            "image/png": "[encoded data removed]",
            "text/plain": [
              "<Figure size 432x288 with 1 Axes>"
            ]
          },
          "metadata": {
            "tags": []
          }
        }
      ]
    },
    {
      "cell_type": "markdown",
      "metadata": {
        "id": "u_28GDs1oYFh",
        "colab_type": "text"
      },
      "source": [
        "Thus, we see that our prediction of the image at index 88 is right (T-shirt)."
      ]
    },
    {
      "cell_type": "markdown",
      "metadata": {
        "id": "j01JBj1Zs8TO",
        "colab_type": "text"
      },
      "source": [
        "Confusion Matrix"
      ]
    },
    {
      "cell_type": "code",
      "metadata": {
        "id": "n6FNX59ooYFi",
        "colab_type": "code",
        "colab": {}
      },
      "source": [
        "#https://www.kaggle.com/amarjeet007/visualize-cnn-with-keras\n",
        "from sklearn.metrics import confusion_matrix\n",
        "Y_prediction = model.predict(X_valid)\n",
        "# Convert predictions classes to one hot vectors \n",
        "Y_pred_classes = np.argmax(Y_prediction,axis = 1) \n",
        "# Convert validation observations to one hot vectors\n",
        "Y_true = np.argmax(Y_valid,axis = 1) \n",
        "# compute the confusion matrix\n",
        "confusion_mtx = confusion_matrix(Y_true, Y_pred_classes)\n",
        "\n",
        "plt.figure(figsize=(10,8))\n",
        "sns.heatmap(confusion_mtx, annot=True, fmt=\"d\");"
      ],
      "execution_count": 0,
      "outputs": []
    }
  ]
}